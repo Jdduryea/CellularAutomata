{
 "cells": [
  {
   "cell_type": "code",
   "execution_count": null,
   "metadata": {
    "collapsed": true
   },
   "outputs": [],
   "source": [
    "# Jack Duryea\n",
    "# Cellular Automata Simulations\n",
    "# July 2018"
   ]
  },
  {
   "cell_type": "code",
   "execution_count": 1,
   "metadata": {
    "collapsed": true
   },
   "outputs": [],
   "source": [
    "import numpy as np\n",
    "import matplotlib.pyplot as plt\n",
    "from tqdm import tqdm\n",
    "from sklearn.metrics import roc_curve\n",
    "%matplotlib inline"
   ]
  },
  {
   "cell_type": "code",
   "execution_count": 16,
   "metadata": {
    "collapsed": true
   },
   "outputs": [],
   "source": [
    "def get_next_seq(previous_seq, rule):\n",
    "    '''\n",
    "    Use a rule to generate the next sequence for an automoton\n",
    "    '''\n",
    "    \n",
    "    seq_length = len(previous_seq) - 2\n",
    "    rule_length = len(rule.keys()[0])\n",
    "    sub_seqs = [tuple(previous_seq[i:i + rule_length]) for i in range(0, seq_length)]\n",
    "    new_seq = [rule[sub_seq] for sub_seq in sub_seqs]\n",
    "    \n",
    "    # Zero pad the ends \n",
    "    new_seq.insert(0, 0)\n",
    "    new_seq.append(0)\n",
    "    return new_seq"
   ]
  },
  {
   "cell_type": "code",
   "execution_count": 13,
   "metadata": {},
   "outputs": [],
   "source": []
  },
  {
   "cell_type": "code",
   "execution_count": null,
   "metadata": {},
   "outputs": [],
   "source": [
    "ternary(5)"
   ]
  },
  {
   "cell_type": "code",
   "execution_count": 14,
   "metadata": {},
   "outputs": [],
   "source": [
    "def get_wolfram_rule( rule_number ):\n",
    "    '''\n",
    "    Gets the mapping for the given rule.\n",
    "    Each rule is essentially the binary version of the rule number\n",
    "    '''\n",
    "    binary_rep = str(bin(rule_number))[2:]\n",
    "    # prepend 0s so that the are 8 bits\n",
    "    binary_rep = [0]*(8-len(binary_rep)) + [int(b) for b in binary_rep]\n",
    "\n",
    "    mapping = {\n",
    "         (0,0,0): binary_rep[7],\n",
    "         (0,0,1): binary_rep[6],\n",
    "         (0,1,0): binary_rep[5],\n",
    "         (0,1,1): binary_rep[4],\n",
    "         (1,0,0): binary_rep[3],\n",
    "         (1,0,1): binary_rep[2],\n",
    "         (1,1,0): binary_rep[1],\n",
    "         (1,1,1): binary_rep[0],\n",
    "    }\n",
    "    \n",
    "    return mapping\n",
    "    "
   ]
  },
  {
   "cell_type": "code",
   "execution_count": 73,
   "metadata": {},
   "outputs": [
    {
     "name": "stderr",
     "output_type": "stream",
     "text": [
      "100%|██████████| 250/250 [00:00<00:00, 2136.26it/s]\n"
     ]
    }
   ],
   "source": [
    "# Initial conditions\n",
    "\n",
    "start = list(np.zeros(501))\n",
    "start[250] = 1\n",
    "\n",
    "data = []\n",
    "prev = start\n",
    "num_gens = 250\n",
    "\n",
    "for i in tqdm(range(num_gens)):\n",
    "    data.append(prev)\n",
    "    prev = get_next_seq(prev, get_wolfram_rule(30))"
   ]
  },
  {
   "cell_type": "code",
   "execution_count": 74,
   "metadata": {},
   "outputs": [
    {
     "data": {
      "text/plain": [
       "<matplotlib.image.AxesImage at 0x19f14b890>"
      ]
     },
     "execution_count": 74,
     "metadata": {},
     "output_type": "execute_result"
    },
    {
     "data": {
      "image/png": "[encoded data removed]",
      "text/plain": [
       "<matplotlib.figure.Figure at 0x19766c350>"
      ]
     },
     "metadata": {},
     "output_type": "display_data"
    }
   ],
   "source": [
    "plt.imshow(np.array(data), cmap=\"spectral\")\n"
   ]
  },
  {
   "cell_type": "markdown",
   "metadata": {},
   "source": [
    "# Part 2: Neural Nets"
   ]
  },
  {
   "cell_type": "code",
   "execution_count": 20,
   "metadata": {},
   "outputs": [
    {
     "name": "stderr",
     "output_type": "stream",
     "text": [
      "Using TensorFlow backend.\n"
     ]
    }
   ],
   "source": [
    "import keras\n",
    "from keras.datasets import mnist, cifar10\n",
    "from keras.layers import Dense, Dropout, LSTM, Conv1D, Conv2D, Flatten\n",
    "from keras.models import Sequential\n",
    "from keras.utils import np_utils\n",
    "from sklearn.model_selection import train_test_split\n",
    "from keras.layers import LeakyReLU\n"
   ]
  },
  {
   "cell_type": "code",
   "execution_count": 75,
   "metadata": {},
   "outputs": [],
   "source": [
    "data_points = len(data)\n",
    "X = np.array(data[0:-2])\n",
    "y = np.array(data[1:-1]) # offset by 1\n",
    "X_train, X_test, y_train, y_test = train_test_split(X,\n",
    "    y, train_size=0.8)"
   ]
  },
  {
   "cell_type": "code",
   "execution_count": 80,
   "metadata": {},
   "outputs": [],
   "source": [
    "model = Sequential()\n",
    "model.add(Dense(1000,  activation=\"linear\", input_dim = X_train.shape[1]))\n",
    "model.add(LeakyReLU())\n",
    "\n",
    "model.add(Dense(1000, activation=\"linear\") )\n",
    "model.add(LeakyReLU())\n",
    "model.add(Dropout(0.5))\n",
    "\n",
    "model.add(Dense(1000, activation=\"linear\") )\n",
    "model.add(LeakyReLU())\n",
    "model.add(Dense(1000, activation=\"linear\") )\n",
    "model.add(LeakyReLU())\n",
    "model.add(Dropout(0.5))\n",
    "\n",
    "model.add(Dense(y.shape[1], activation=\"sigmoid\") )\n",
    "optim = keras.optimizers.Adam(lr=0.0001)\n",
    "model.compile(loss='mse',\n",
    "              optimizer=optim )"
   ]
  },
  {
   "cell_type": "code",
   "execution_count": 81,
   "metadata": {},
   "outputs": [
    {
     "name": "stdout",
     "output_type": "stream",
     "text": [
      "Train on 158 samples, validate on 40 samples\n",
      "Epoch 1/100\n",
      "158/158 [==============================] - 1s - loss: 0.2515 - val_loss: 0.2433\n",
      "Epoch 2/100\n",
      "158/158 [==============================] - 0s - loss: 0.2403 - val_loss: 0.2347\n",
      "Epoch 3/100\n",
      "158/158 [==============================] - 0s - loss: 0.2305 - val_loss: 0.2229\n",
      "Epoch 4/100\n",
      "158/158 [==============================] - 0s - loss: 0.2188 - val_loss: 0.2096\n",
      "Epoch 5/100\n",
      "158/158 [==============================] - 0s - loss: 0.2058 - val_loss: 0.1981\n",
      "Epoch 6/100\n",
      "158/158 [==============================] - 0s - loss: 0.1957 - val_loss: 0.1886\n",
      "Epoch 7/100\n",
      "158/158 [==============================] - 0s - loss: 0.1849 - val_loss: 0.1790\n",
      "Epoch 8/100\n",
      "158/158 [==============================] - 0s - loss: 0.1747 - val_loss: 0.1700ss: 0.173\n",
      "Epoch 9/100\n",
      "158/158 [==============================] - 0s - loss: 0.1661 - val_loss: 0.1648\n",
      "Epoch 10/100\n",
      "158/158 [==============================] - 0s - loss: 0.1603 - val_loss: 0.1620\n",
      "Epoch 11/100\n",
      "158/158 [==============================] - 0s - loss: 0.1573 - val_loss: 0.1606\n",
      "Epoch 12/100\n",
      "158/158 [==============================] - 0s - loss: 0.1539 - val_loss: 0.1597\n",
      "Epoch 13/100\n",
      "158/158 [==============================] - 0s - loss: 0.1507 - val_loss: 0.1581\n",
      "Epoch 14/100\n",
      "158/158 [==============================] - 0s - loss: 0.1485 - val_loss: 0.1572\n",
      "Epoch 15/100\n",
      "158/158 [==============================] - 0s - loss: 0.1470 - val_loss: 0.1565\n",
      "Epoch 16/100\n",
      "158/158 [==============================] - 0s - loss: 0.1450 - val_loss: 0.1561\n",
      "Epoch 17/100\n",
      "158/158 [==============================] - 0s - loss: 0.1435 - val_loss: 0.1555\n",
      "Epoch 18/100\n",
      "158/158 [==============================] - 0s - loss: 0.1420 - val_loss: 0.1552\n",
      "Epoch 19/100\n",
      "158/158 [==============================] - 0s - loss: 0.1408 - val_loss: 0.1550\n",
      "Epoch 20/100\n",
      "158/158 [==============================] - 0s - loss: 0.1398 - val_loss: 0.1546\n",
      "Epoch 21/100\n",
      "158/158 [==============================] - 0s - loss: 0.1384 - val_loss: 0.1541\n",
      "Epoch 22/100\n",
      "158/158 [==============================] - 0s - loss: 0.1373 - val_loss: 0.1538\n",
      "Epoch 23/100\n",
      "158/158 [==============================] - 0s - loss: 0.1367 - val_loss: 0.1536\n",
      "Epoch 24/100\n",
      "158/158 [==============================] - 0s - loss: 0.1354 - val_loss: 0.1532\n",
      "Epoch 25/100\n",
      "158/158 [==============================] - 0s - loss: 0.1341 - val_loss: 0.1532\n",
      "Epoch 26/100\n",
      "158/158 [==============================] - 0s - loss: 0.1332 - val_loss: 0.1531\n",
      "Epoch 27/100\n",
      "158/158 [==============================] - 0s - loss: 0.1327 - val_loss: 0.1529\n",
      "Epoch 28/100\n",
      "158/158 [==============================] - 0s - loss: 0.1316 - val_loss: 0.1526\n",
      "Epoch 29/100\n",
      "158/158 [==============================] - 0s - loss: 0.1301 - val_loss: 0.1526\n",
      "Epoch 30/100\n",
      "158/158 [==============================] - 0s - loss: 0.1297 - val_loss: 0.1523\n",
      "Epoch 31/100\n",
      "158/158 [==============================] - 0s - loss: 0.1291 - val_loss: 0.1524\n",
      "Epoch 32/100\n",
      "158/158 [==============================] - 0s - loss: 0.1281 - val_loss: 0.1524\n",
      "Epoch 33/100\n",
      "158/158 [==============================] - 0s - loss: 0.1267 - val_loss: 0.1524\n",
      "Epoch 34/100\n",
      "158/158 [==============================] - 0s - loss: 0.1266 - val_loss: 0.1520\n",
      "Epoch 35/100\n",
      "158/158 [==============================] - 0s - loss: 0.1259 - val_loss: 0.1520\n",
      "Epoch 36/100\n",
      "158/158 [==============================] - 0s - loss: 0.1250 - val_loss: 0.1520\n",
      "Epoch 37/100\n",
      "158/158 [==============================] - 0s - loss: 0.1241 - val_loss: 0.1520\n",
      "Epoch 38/100\n",
      "158/158 [==============================] - 0s - loss: 0.1227 - val_loss: 0.1519\n",
      "Epoch 39/100\n",
      "158/158 [==============================] - 0s - loss: 0.1226 - val_loss: 0.1518\n",
      "Epoch 40/100\n",
      "158/158 [==============================] - 0s - loss: 0.1214 - val_loss: 0.1523\n",
      "Epoch 41/100\n",
      "158/158 [==============================] - 0s - loss: 0.1212 - val_loss: 0.1518\n",
      "Epoch 42/100\n",
      "158/158 [==============================] - 0s - loss: 0.1199 - val_loss: 0.1518\n",
      "Epoch 43/100\n",
      "158/158 [==============================] - 0s - loss: 0.1192 - val_loss: 0.1517\n",
      "Epoch 44/100\n",
      "158/158 [==============================] - 0s - loss: 0.1178 - val_loss: 0.1517\n",
      "Epoch 45/100\n",
      "158/158 [==============================] - 0s - loss: 0.1177 - val_loss: 0.1520\n",
      "Epoch 46/100\n",
      "158/158 [==============================] - 0s - loss: 0.1170 - val_loss: 0.1523\n",
      "Epoch 47/100\n",
      "158/158 [==============================] - 0s - loss: 0.1161 - val_loss: 0.1520\n",
      "Epoch 48/100\n",
      "158/158 [==============================] - 0s - loss: 0.1145 - val_loss: 0.1518\n",
      "Epoch 49/100\n",
      "158/158 [==============================] - 0s - loss: 0.1140 - val_loss: 0.1522\n",
      "Epoch 50/100\n",
      "158/158 [==============================] - 0s - loss: 0.1122 - val_loss: 0.1523\n",
      "Epoch 51/100\n",
      "158/158 [==============================] - 0s - loss: 0.1129 - val_loss: 0.1521\n",
      "Epoch 52/100\n",
      "158/158 [==============================] - 0s - loss: 0.1113 - val_loss: 0.1521\n",
      "Epoch 53/100\n",
      "158/158 [==============================] - 0s - loss: 0.1104 - val_loss: 0.1524\n",
      "Epoch 54/100\n",
      "158/158 [==============================] - 0s - loss: 0.1100 - val_loss: 0.1526\n",
      "Epoch 55/100\n",
      "158/158 [==============================] - 0s - loss: 0.1084 - val_loss: 0.1528\n",
      "Epoch 56/100\n",
      "158/158 [==============================] - 0s - loss: 0.1083 - val_loss: 0.1528\n",
      "Epoch 57/100\n",
      "158/158 [==============================] - 0s - loss: 0.1069 - val_loss: 0.1532\n",
      "Epoch 58/100\n",
      "158/158 [==============================] - 0s - loss: 0.1053 - val_loss: 0.1531\n",
      "Epoch 59/100\n",
      "158/158 [==============================] - 0s - loss: 0.1056 - val_loss: 0.1531\n",
      "Epoch 60/100\n",
      "158/158 [==============================] - 0s - loss: 0.1041 - val_loss: 0.1535\n",
      "Epoch 61/100\n",
      "158/158 [==============================] - 0s - loss: 0.1037 - val_loss: 0.1536\n",
      "Epoch 62/100\n",
      "158/158 [==============================] - 0s - loss: 0.1028 - val_loss: 0.1532\n",
      "Epoch 63/100\n",
      "158/158 [==============================] - 0s - loss: 0.1016 - val_loss: 0.1531\n",
      "Epoch 64/100\n",
      "158/158 [==============================] - 0s - loss: 0.1002 - val_loss: 0.1544\n",
      "Epoch 65/100\n",
      "158/158 [==============================] - 0s - loss: 0.1006 - val_loss: 0.1534\n",
      "Epoch 66/100\n",
      "158/158 [==============================] - 0s - loss: 0.0987 - val_loss: 0.1539\n",
      "Epoch 67/100\n",
      "158/158 [==============================] - 0s - loss: 0.0992 - val_loss: 0.1546\n",
      "Epoch 68/100\n",
      "158/158 [==============================] - 0s - loss: 0.0970 - val_loss: 0.1542\n",
      "Epoch 69/100\n",
      "158/158 [==============================] - 0s - loss: 0.0967 - val_loss: 0.1536\n",
      "Epoch 70/100\n",
      "158/158 [==============================] - 0s - loss: 0.0962 - val_loss: 0.1550\n",
      "Epoch 71/100\n",
      "158/158 [==============================] - 0s - loss: 0.0943 - val_loss: 0.1541\n",
      "Epoch 72/100\n",
      "158/158 [==============================] - 0s - loss: 0.0936 - val_loss: 0.1545\n",
      "Epoch 73/100\n",
      "158/158 [==============================] - 0s - loss: 0.0936 - val_loss: 0.1547\n",
      "Epoch 74/100\n",
      "158/158 [==============================] - 0s - loss: 0.0925 - val_loss: 0.1548\n",
      "Epoch 75/100\n",
      "158/158 [==============================] - 0s - loss: 0.0914 - val_loss: 0.1555\n",
      "Epoch 76/100\n",
      "158/158 [==============================] - 0s - loss: 0.0911 - val_loss: 0.1557\n",
      "Epoch 77/100\n",
      "158/158 [==============================] - 0s - loss: 0.0896 - val_loss: 0.1550\n",
      "Epoch 78/100\n",
      "158/158 [==============================] - 0s - loss: 0.0895 - val_loss: 0.1559\n",
      "Epoch 79/100\n",
      "158/158 [==============================] - 0s - loss: 0.0886 - val_loss: 0.1552\n",
      "Epoch 80/100\n",
      "158/158 [==============================] - 0s - loss: 0.0878 - val_loss: 0.1563\n",
      "Epoch 81/100\n",
      "158/158 [==============================] - 0s - loss: 0.0879 - val_loss: 0.1559\n",
      "Epoch 82/100\n",
      "158/158 [==============================] - 0s - loss: 0.0861 - val_loss: 0.1560\n",
      "Epoch 83/100\n",
      "158/158 [==============================] - 0s - loss: 0.0850 - val_loss: 0.1560\n",
      "Epoch 84/100\n",
      "158/158 [==============================] - 0s - loss: 0.0855 - val_loss: 0.1560\n",
      "Epoch 85/100\n",
      "158/158 [==============================] - 0s - loss: 0.0839 - val_loss: 0.1564\n",
      "Epoch 86/100\n",
      "158/158 [==============================] - 0s - loss: 0.0827 - val_loss: 0.1564\n",
      "Epoch 87/100\n",
      "158/158 [==============================] - 0s - loss: 0.0826 - val_loss: 0.1571\n",
      "Epoch 88/100\n"
     ]
    },
    {
     "name": "stdout",
     "output_type": "stream",
     "text": [
      "158/158 [==============================] - 0s - loss: 0.0821 - val_loss: 0.1571\n",
      "Epoch 89/100\n",
      "158/158 [==============================] - 0s - loss: 0.0810 - val_loss: 0.1572\n",
      "Epoch 90/100\n",
      "158/158 [==============================] - 0s - loss: 0.0799 - val_loss: 0.1566\n",
      "Epoch 91/100\n",
      "158/158 [==============================] - 0s - loss: 0.0792 - val_loss: 0.1581\n",
      "Epoch 92/100\n",
      "158/158 [==============================] - 0s - loss: 0.0791 - val_loss: 0.1574\n",
      "Epoch 93/100\n",
      "158/158 [==============================] - 0s - loss: 0.0788 - val_loss: 0.1582\n",
      "Epoch 94/100\n",
      "158/158 [==============================] - 0s - loss: 0.0778 - val_loss: 0.1575\n",
      "Epoch 95/100\n",
      "158/158 [==============================] - 0s - loss: 0.0779 - val_loss: 0.1577\n",
      "Epoch 96/100\n",
      "158/158 [==============================] - 0s - loss: 0.0772 - val_loss: 0.1588\n",
      "Epoch 97/100\n",
      "158/158 [==============================] - 0s - loss: 0.0755 - val_loss: 0.1578\n",
      "Epoch 98/100\n",
      "158/158 [==============================] - 0s - loss: 0.0750 - val_loss: 0.1581\n",
      "Epoch 99/100\n",
      "158/158 [==============================] - 0s - loss: 0.0743 - val_loss: 0.1581\n",
      "Epoch 100/100\n",
      "158/158 [==============================] - 0s - loss: 0.0736 - val_loss: 0.1590\n"
     ]
    }
   ],
   "source": [
    "history = model.fit(X_train, y_train, validation_split=0.2, epochs=100)"
   ]
  },
  {
   "cell_type": "code",
   "execution_count": 84,
   "metadata": {},
   "outputs": [
    {
     "data": {
      "image/png": "[encoded data removed]",
      "text/plain": [
       "<matplotlib.figure.Figure at 0x1a11fc0d0>"
      ]
     },
     "metadata": {},
     "output_type": "display_data"
    }
   ],
   "source": [
    "plt.plot(history.history[\"loss\"])\n",
    "plt.xlabel(\"Epochs\")\n",
    "plt.ylabel(\"MSE\")\n",
    "plt.title(\"Training Loss on Rule 30\")\n",
    "plt.savefig(\"trainloss30.png\",dpi=500)\n"
   ]
  },
  {
   "cell_type": "code",
   "execution_count": 82,
   "metadata": {},
   "outputs": [
    {
     "data": {
      "image/png": "[encoded data removed]",
      "text/plain": [
       "<matplotlib.figure.Figure at 0x12f484d10>"
      ]
     },
     "metadata": {},
     "output_type": "display_data"
    }
   ],
   "source": [
    "plt.plot(history.history[\"val_loss\"])\n",
    "plt.xlabel(\"Epochs\")\n",
    "plt.ylabel(\"MSE\")\n",
    "plt.title(\"Testing Loss on Rule 30\")\n",
    "plt.savefig(\"testloss30.png\",dpi=500)\n"
   ]
  },
  {
   "cell_type": "code",
   "execution_count": 64,
   "metadata": {},
   "outputs": [
    {
     "data": {
      "text/plain": [
       "[<matplotlib.lines.Line2D at 0x134d78490>]"
      ]
     },
     "execution_count": 64,
     "metadata": {},
     "output_type": "execute_result"
    },
    {
     "data": {
      "image/png": "[encoded data removed]",
      "text/plain": [
       "<matplotlib.figure.Figure at 0x134d78710>"
      ]
     },
     "metadata": {},
     "output_type": "display_data"
    }
   ],
   "source": [
    "inputt = X_train\n",
    "target = y_train\n",
    "\n",
    "pred = model.predict(inputt)\n",
    "fpr, tpr, thresholds = roc_curve(target.flatten(), pred.flatten())\n",
    "plt.plot(fpr, tpr)\n",
    "plt.plot([0, 1], [0, 1], color='orange',  linestyle='--')\n"
   ]
  },
  {
   "cell_type": "code",
   "execution_count": 83,
   "metadata": {},
   "outputs": [
    {
     "data": {
      "image/png": "[encoded data removed]",
      "text/plain": [
       "<matplotlib.figure.Figure at 0x1a11ac4d0>"
      ]
     },
     "metadata": {},
     "output_type": "display_data"
    }
   ],
   "source": [
    "inputt = X_test\n",
    "target = y_test\n",
    "\n",
    "pred = model.predict(inputt)\n",
    "fpr, tpr, thresholds = roc_curve(target.flatten(), pred.flatten())\n",
    "plt.plot(fpr, tpr)\n",
    "plt.plot([0, 1], [0, 1], color='orange',  linestyle='--')\n",
    "plt.xlabel(\"False Positive Rate\")\n",
    "plt.ylabel(\"True Positive Rate\")\n",
    "plt.title(\"ROC For Rule 30\")\n",
    "plt.savefig(\"ROC_test_rule30.png\",dpi=500)"
   ]
  }
 ],
 "metadata": {
  "kernelspec": {
   "display_name": "Python 2",
   "language": "python",
   "name": "python2"
  },
  "language_info": {
   "codemirror_mode": {
    "name": "ipython",
    "version": 2
   },
   "file_extension": ".py",
   "mimetype": "text/x-python",
   "name": "python",
   "nbconvert_exporter": "python",
   "pygments_lexer": "ipython2",
   "version": "2.7.13"
  }
 },
 "nbformat": 4,
 "nbformat_minor": 2
}
